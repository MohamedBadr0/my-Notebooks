{
  "nbformat": 4,
  "nbformat_minor": 0,
  "metadata": {
    "colab": {
      "name": "Recognizing hand-written digits.ipynb",
      "provenance": [],
      "collapsed_sections": []
    },
    "kernelspec": {
      "name": "python3",
      "display_name": "Python 3"
    },
    "language_info": {
      "name": "python"
    },
    "accelerator": "GPU"
  },
  "cells": [
    {
      "cell_type": "markdown",
      "source": [
        "# Recognizing hand-written digits general ML models\n",
        "\n",
        "- This notebook we try to classify the MNIST dataset using 6 ML algorithms which we learn in section.\n",
        "- Algirthms applied on data:<br>\n",
        "  1- Logisitic Regeression.<br>\n",
        "  2- Decision Tree.<br>\n",
        "  3- Random Forest.<br>\n",
        "  4- Support Vector Machine.<br>\n",
        "  5- Naive Bayes.<br>\n",
        "  6- K-Nearesr Neighbor. <br>\n",
        "  \n",
        "- we used Confusion Metrics and scikit-learn score for evaluation \n",
        "- This done by:<br>\n",
        "\n",
        "  1- Mohamed Badr Ismail.<br>\n",
        "\n",
        "  2- Karim Ashoor Mohamed.  "
      ],
      "metadata": {
        "id": "BBu9FYv28eVg"
      }
    },
    {
      "cell_type": "code",
      "execution_count": 1,
      "metadata": {
        "id": "GUyt9Tbo8VdL"
      },
      "outputs": [],
      "source": [
        "# Standard scientific Python imports\n",
        "import matplotlib.pyplot as plt\n",
        "import numpy as np\n",
        "import pandas as pd\n",
        "\n",
        "# Import datasets, classifiers and performance metrics\n",
        "from sklearn.datasets import fetch_openml\n",
        "from sklearn import datasets, svm, metrics\n",
        "from sklearn.model_selection import train_test_split\n",
        "from sklearn.preprocessing import StandardScaler\n",
        "from sklearn.utils import check_random_state"
      ]
    },
    {
      "cell_type": "code",
      "source": [
        "# reading our mnist data \n",
        "X, y = fetch_openml(\"mnist_784\", version=1, return_X_y=True, as_frame=False)"
      ],
      "metadata": {
        "id": "Shz3TdEO8ta6"
      },
      "execution_count": 2,
      "outputs": []
    },
    {
      "cell_type": "code",
      "source": [
        "print(\"shape of X: \", X.shape)\n",
        "print(\"shape of y: \", y.shape)"
      ],
      "metadata": {
        "colab": {
          "base_uri": "https://localhost:8080/"
        },
        "id": "44p-hofS9-FT",
        "outputId": "fa43c446-a5b3-42e4-b181-9f1f2be43ef5"
      },
      "execution_count": 3,
      "outputs": [
        {
          "output_type": "stream",
          "name": "stdout",
          "text": [
            "shape of X:  (70000, 784)\n",
            "shape of y:  (70000,)\n"
          ]
        }
      ]
    },
    {
      "cell_type": "code",
      "source": [
        "# show some images \n",
        "plt.figure(figsize=(10, 5))\n",
        "for i in range(10):\n",
        "    l1_plot = plt.subplot(2, 5, i + 1)\n",
        "    l1_plot.imshow(\n",
        "        X[i].reshape(28, 28),\n",
        "        interpolation=\"nearest\")\n",
        "    l1_plot.set_xticks(())\n",
        "    l1_plot.set_yticks(())\n",
        "    l1_plot.set_xlabel(f\"Class \" +  y[i])"
      ],
      "metadata": {
        "colab": {
          "base_uri": "https://localhost:8080/",
          "height": 289
        },
        "id": "iH5seP-Z-jCG",
        "outputId": "c6432844-6e6b-4a3b-aff9-f8333099cc94"
      },
      "execution_count": 4,
      "outputs": [
        {
          "output_type": "display_data",
          "data": {
            "text/plain": [
              "<Figure size 720x360 with 10 Axes>"
            ],
            "image/png": "[encoded data removed]"
          },
          "metadata": {}
        }
      ]
    },
    {
      "cell_type": "code",
      "source": [
        "# split our data to train and test\n",
        "X_train, X_test, y_train, y_test = train_test_split(\n",
        "    X, y, test_size=10000 , shuffle=True,  random_state=42)"
      ],
      "metadata": {
        "id": "TEJ3lVm8_QHy"
      },
      "execution_count": 5,
      "outputs": []
    },
    {
      "cell_type": "code",
      "source": [
        "print(X_train.shape)\n",
        "print(y_train.shape)\n",
        "\n",
        "\n",
        "print(X_test.shape)\n",
        "print(y_test.shape)"
      ],
      "metadata": {
        "colab": {
          "base_uri": "https://localhost:8080/"
        },
        "id": "a4qoHLlDBJ_P",
        "outputId": "e544b2a3-2c94-4da1-8e7d-40314068d281"
      },
      "execution_count": 6,
      "outputs": [
        {
          "output_type": "stream",
          "name": "stdout",
          "text": [
            "(60000, 784)\n",
            "(60000,)\n",
            "(10000, 784)\n",
            "(10000,)\n"
          ]
        }
      ]
    },
    {
      "cell_type": "code",
      "source": [
        "# standardize our data\n",
        "scaler = StandardScaler()\n",
        "X_train_sc = scaler.fit_transform(X_train)\n",
        "X_test_sc = scaler.transform(X_test)"
      ],
      "metadata": {
        "id": "p4ZUVfZ5BTyO"
      },
      "execution_count": 7,
      "outputs": []
    },
    {
      "cell_type": "markdown",
      "source": [
        "### Classify using Logistic Regression"
      ],
      "metadata": {
        "id": "jZ4QjXjBuCTL"
      }
    },
    {
      "cell_type": "code",
      "source": [
        "from sklearn.linear_model import LogisticRegression\n",
        "clf = LogisticRegression()\n",
        "clf.fit(X_train_sc, y_train)"
      ],
      "metadata": {
        "colab": {
          "base_uri": "https://localhost:8080/"
        },
        "id": "iU_oYFzAByBn",
        "outputId": "518980f6-6fea-4dbb-96cd-0cb534326fc0"
      },
      "execution_count": 13,
      "outputs": [
        {
          "output_type": "stream",
          "name": "stderr",
          "text": [
            "/usr/local/lib/python3.7/dist-packages/sklearn/linear_model/_logistic.py:818: ConvergenceWarning: lbfgs failed to converge (status=1):\n",
            "STOP: TOTAL NO. of ITERATIONS REACHED LIMIT.\n",
            "\n",
            "Increase the number of iterations (max_iter) or scale the data as shown in:\n",
            "    https://scikit-learn.org/stable/modules/preprocessing.html\n",
            "Please also refer to the documentation for alternative solver options:\n",
            "    https://scikit-learn.org/stable/modules/linear_model.html#logistic-regression\n",
            "  extra_warning_msg=_LOGISTIC_SOLVER_CONVERGENCE_MSG,\n"
          ]
        },
        {
          "output_type": "stream",
          "name": "stdout",
          "text": [
            "Logistic Regression Score 0.9163\n",
            "Classification report for classifier LogisticRegression():\n",
            "              precision    recall  f1-score   support\n",
            "\n",
            "           0       0.96      0.96      0.96       983\n",
            "           1       0.94      0.97      0.96      1152\n",
            "           2       0.90      0.89      0.90       967\n",
            "           3       0.89      0.89      0.89      1034\n",
            "           4       0.92      0.93      0.92       906\n",
            "           5       0.88      0.87      0.88       937\n",
            "           6       0.93      0.95      0.94       961\n",
            "           7       0.93      0.94      0.93      1055\n",
            "           8       0.89      0.84      0.87       969\n",
            "           9       0.91      0.91      0.91      1036\n",
            "\n",
            "    accuracy                           0.92     10000\n",
            "   macro avg       0.92      0.92      0.92     10000\n",
            "weighted avg       0.92      0.92      0.92     10000\n",
            "\n",
            "\n"
          ]
        }
      ]
    },
    {
      "cell_type": "markdown",
      "source": [
        "#### evaluate preformance of LR using model score and confusion matrix"
      ],
      "metadata": {
        "id": "LMcHqy54urDa"
      }
    },
    {
      "cell_type": "code",
      "source": [
        "score = clf.score(X_test_sc, y_test)\n",
        "print(f\"Logistic Regression Score {score}\")\n",
        "\n",
        "# Predict the value of the digit on the test subset\n",
        "predicted = clf.predict(X_test_sc)\n",
        "\n",
        "print(\n",
        "    f\"Classification report for classifier {clf}:\\n\"\n",
        "    f\"{metrics.classification_report(y_test, predicted)}\\n\"\n",
        ")"
      ],
      "metadata": {
        "colab": {
          "base_uri": "https://localhost:8080/"
        },
        "id": "O7SJBkrvum_k",
        "outputId": "03d0e158-759f-4162-8cb7-e931324037b3"
      },
      "execution_count": 14,
      "outputs": [
        {
          "output_type": "stream",
          "name": "stdout",
          "text": [
            "Logistic Regression Score 0.9163\n",
            "Classification report for classifier LogisticRegression():\n",
            "              precision    recall  f1-score   support\n",
            "\n",
            "           0       0.96      0.96      0.96       983\n",
            "           1       0.94      0.97      0.96      1152\n",
            "           2       0.90      0.89      0.90       967\n",
            "           3       0.89      0.89      0.89      1034\n",
            "           4       0.92      0.93      0.92       906\n",
            "           5       0.88      0.87      0.88       937\n",
            "           6       0.93      0.95      0.94       961\n",
            "           7       0.93      0.94      0.93      1055\n",
            "           8       0.89      0.84      0.87       969\n",
            "           9       0.91      0.91      0.91      1036\n",
            "\n",
            "    accuracy                           0.92     10000\n",
            "   macro avg       0.92      0.92      0.92     10000\n",
            "weighted avg       0.92      0.92      0.92     10000\n",
            "\n",
            "\n"
          ]
        }
      ]
    },
    {
      "cell_type": "markdown",
      "source": [
        "### Classify using SVM"
      ],
      "metadata": {
        "id": "II78m-0XuZR8"
      }
    },
    {
      "cell_type": "code",
      "source": [
        "from sklearn.svm import SVC\n",
        "clf = SVC()\n",
        "clf.fit(X_train_sc, y_train)"
      ],
      "metadata": {
        "colab": {
          "base_uri": "https://localhost:8080/"
        },
        "id": "r1gVOTpfHBJv",
        "outputId": "f4aa7578-74d3-4a70-a2d6-0816c24b1f63"
      },
      "execution_count": 15,
      "outputs": [
        {
          "output_type": "execute_result",
          "data": {
            "text/plain": [
              "SVC()"
            ]
          },
          "metadata": {},
          "execution_count": 15
        }
      ]
    },
    {
      "cell_type": "markdown",
      "source": [
        "#### evaluate preformance of SVC using model score and confusion matrix"
      ],
      "metadata": {
        "id": "B6GNKqGAvF0D"
      }
    },
    {
      "cell_type": "code",
      "source": [
        "score = clf.score(X_test_sc, y_test)\n",
        "print(f\"SVM Score {score}\")\n",
        "\n",
        "# Predict the value of the digit on the test subset\n",
        "predicted = clf.predict(X_test_sc)\n",
        "\n",
        "print(\n",
        "    f\"Classification report for classifier {clf}:\\n\"\n",
        "    f\"{metrics.classification_report(y_test, predicted)}\\n\"\n",
        ")"
      ],
      "metadata": {
        "colab": {
          "base_uri": "https://localhost:8080/"
        },
        "id": "9-jXFJxHHePu",
        "outputId": "17e20d44-4d82-41a5-c929-af29a735dc5f"
      },
      "execution_count": 16,
      "outputs": [
        {
          "output_type": "stream",
          "name": "stdout",
          "text": [
            "SVM Score 0.9631\n",
            "Classification report for classifier SVC():\n",
            "              precision    recall  f1-score   support\n",
            "\n",
            "           0       0.98      0.98      0.98       983\n",
            "           1       0.98      0.99      0.98      1152\n",
            "           2       0.95      0.96      0.95       967\n",
            "           3       0.96      0.95      0.95      1034\n",
            "           4       0.97      0.96      0.96       906\n",
            "           5       0.97      0.96      0.96       937\n",
            "           6       0.97      0.98      0.97       961\n",
            "           7       0.93      0.97      0.95      1055\n",
            "           8       0.97      0.95      0.96       969\n",
            "           9       0.97      0.94      0.95      1036\n",
            "\n",
            "    accuracy                           0.96     10000\n",
            "   macro avg       0.96      0.96      0.96     10000\n",
            "weighted avg       0.96      0.96      0.96     10000\n",
            "\n",
            "\n"
          ]
        }
      ]
    },
    {
      "cell_type": "markdown",
      "source": [
        "### Classify using Naive Bayes"
      ],
      "metadata": {
        "id": "Eli_pHNlvOF4"
      }
    },
    {
      "cell_type": "code",
      "source": [
        "from sklearn.naive_bayes import MultinomialNB\n",
        "clf = MultinomialNB()\n",
        "clf.fit(X_train, y_train)"
      ],
      "metadata": {
        "id": "oM9tLKxNHjak",
        "colab": {
          "base_uri": "https://localhost:8080/"
        },
        "outputId": "d64518ea-bfa1-4164-dbc3-8bb6a1861742"
      },
      "execution_count": 20,
      "outputs": [
        {
          "output_type": "execute_result",
          "data": {
            "text/plain": [
              "MultinomialNB()"
            ]
          },
          "metadata": {},
          "execution_count": 20
        }
      ]
    },
    {
      "cell_type": "markdown",
      "source": [
        "#### evaluate preformance of Naive Bayes using model score and confusion matrix"
      ],
      "metadata": {
        "id": "E-tH3r_owhBU"
      }
    },
    {
      "cell_type": "code",
      "source": [
        "score = clf.score(X_test, y_test)\n",
        "print(f\"Naive Bayes Score {score}\")\n",
        "\n",
        "# Predict the value of the digit on the test subset\n",
        "predicted = clf.predict(X_test)\n",
        "\n",
        "print(\n",
        "    f\"Classification report for classifier {clf}:\\n\"\n",
        "    f\"{metrics.classification_report(y_test, predicted)}\\n\"\n",
        ")"
      ],
      "metadata": {
        "colab": {
          "base_uri": "https://localhost:8080/"
        },
        "id": "mDH-hh8jH8ix",
        "outputId": "6fe75b46-04d5-4188-d54d-529738c5816b"
      },
      "execution_count": 22,
      "outputs": [
        {
          "output_type": "stream",
          "name": "stdout",
          "text": [
            "Naive Bayes Score 0.8301\n",
            "Classification report for classifier MultinomialNB():\n",
            "              precision    recall  f1-score   support\n",
            "\n",
            "           0       0.93      0.91      0.92       983\n",
            "           1       0.87      0.94      0.91      1152\n",
            "           2       0.87      0.84      0.85       967\n",
            "           3       0.79      0.82      0.81      1034\n",
            "           4       0.83      0.74      0.78       906\n",
            "           5       0.87      0.68      0.76       937\n",
            "           6       0.87      0.91      0.89       961\n",
            "           7       0.95      0.83      0.88      1055\n",
            "           8       0.67      0.77      0.72       969\n",
            "           9       0.71      0.84      0.77      1036\n",
            "\n",
            "    accuracy                           0.83     10000\n",
            "   macro avg       0.84      0.83      0.83     10000\n",
            "weighted avg       0.84      0.83      0.83     10000\n",
            "\n",
            "\n"
          ]
        }
      ]
    },
    {
      "cell_type": "markdown",
      "source": [
        "### Classify using Decision Tree"
      ],
      "metadata": {
        "id": "XylCf1M0vUZL"
      }
    },
    {
      "cell_type": "code",
      "source": [
        "from sklearn.tree import DecisionTreeClassifier\n",
        "clf = DecisionTreeClassifier()\n",
        "clf.fit(X_train_sc, y_train)"
      ],
      "metadata": {
        "id": "Wrw_j1DBH8-f",
        "colab": {
          "base_uri": "https://localhost:8080/"
        },
        "outputId": "ca607cdb-23bf-4670-ff3b-59b5650ef4e8"
      },
      "execution_count": 20,
      "outputs": [
        {
          "output_type": "execute_result",
          "data": {
            "text/plain": [
              "DecisionTreeClassifier()"
            ]
          },
          "metadata": {},
          "execution_count": 20
        }
      ]
    },
    {
      "cell_type": "markdown",
      "source": [
        "#### evaluate preformance of Decision Tree using model score and confusion matrix"
      ],
      "metadata": {
        "id": "Bxu0UKbrwmNe"
      }
    },
    {
      "cell_type": "code",
      "source": [
        "score = clf.score(X_test_sc, y_test)\n",
        "print(f\"Decision Tree Score {score}\")\n",
        "\n",
        "\n",
        "# Predict the value of the digit on the test subset\n",
        "predicted = clf.predict(X_test_sc)\n",
        "\n",
        "print(\n",
        "    f\"Classification report for classifier {clf}:\\n\"\n",
        "    f\"{metrics.classification_report(y_test, predicted)}\\n\"\n",
        ")"
      ],
      "metadata": {
        "colab": {
          "base_uri": "https://localhost:8080/"
        },
        "id": "eX_kyoI8ILWp",
        "outputId": "f961fd6a-c084-4ccc-999f-eeb80dd16341"
      },
      "execution_count": 21,
      "outputs": [
        {
          "output_type": "stream",
          "name": "stdout",
          "text": [
            "Decision Tree Score 0.8715\n",
            "Classification report for classifier DecisionTreeClassifier():\n",
            "              precision    recall  f1-score   support\n",
            "\n",
            "           0       0.93      0.91      0.92       983\n",
            "           1       0.95      0.96      0.96      1152\n",
            "           2       0.83      0.84      0.84       967\n",
            "           3       0.84      0.84      0.84      1034\n",
            "           4       0.85      0.86      0.86       906\n",
            "           5       0.83      0.82      0.83       937\n",
            "           6       0.90      0.91      0.91       961\n",
            "           7       0.91      0.92      0.91      1055\n",
            "           8       0.82      0.79      0.81       969\n",
            "           9       0.83      0.83      0.83      1036\n",
            "\n",
            "    accuracy                           0.87     10000\n",
            "   macro avg       0.87      0.87      0.87     10000\n",
            "weighted avg       0.87      0.87      0.87     10000\n",
            "\n",
            "\n"
          ]
        }
      ]
    },
    {
      "cell_type": "markdown",
      "source": [
        "### Classify using Random Forest"
      ],
      "metadata": {
        "id": "g5n5ZKv8vZS7"
      }
    },
    {
      "cell_type": "code",
      "source": [
        "from sklearn.ensemble import RandomForestClassifier\n",
        "clf = RandomForestClassifier()\n",
        "clf.fit(X_train_sc, y_train)"
      ],
      "metadata": {
        "id": "pg8qbF71INX-",
        "colab": {
          "base_uri": "https://localhost:8080/"
        },
        "outputId": "1a5faf20-14c8-47b1-b15d-c15abdcc861f"
      },
      "execution_count": 22,
      "outputs": [
        {
          "output_type": "execute_result",
          "data": {
            "text/plain": [
              "RandomForestClassifier()"
            ]
          },
          "metadata": {},
          "execution_count": 22
        }
      ]
    },
    {
      "cell_type": "markdown",
      "source": [
        "#### evaluate preformance of Random Forest using model score and confusion matrix"
      ],
      "metadata": {
        "id": "THSUsc22wrAN"
      }
    },
    {
      "cell_type": "code",
      "source": [
        "score = clf.score(X_test_sc, y_test)\n",
        "print(f\"Random Forest Score {score}\")\n",
        "\n",
        "# Predict the value of the digit on the test subset\n",
        "predicted = clf.predict(X_test_sc)\n",
        "\n",
        "print(\n",
        "    f\"Classification report for classifier {clf}:\\n\"\n",
        "    f\"{metrics.classification_report(y_test, predicted)}\\n\"\n",
        ")"
      ],
      "metadata": {
        "colab": {
          "base_uri": "https://localhost:8080/"
        },
        "id": "-J0uv-10Ia6I",
        "outputId": "a0bb4844-59a0-4b5c-ee9b-52aaa9033aec"
      },
      "execution_count": 23,
      "outputs": [
        {
          "output_type": "stream",
          "name": "stdout",
          "text": [
            "Random Forest Score 0.9663\n",
            "Classification report for classifier RandomForestClassifier():\n",
            "              precision    recall  f1-score   support\n",
            "\n",
            "           0       0.98      0.98      0.98       983\n",
            "           1       0.99      0.99      0.99      1152\n",
            "           2       0.94      0.97      0.96       967\n",
            "           3       0.96      0.95      0.95      1034\n",
            "           4       0.96      0.96      0.96       906\n",
            "           5       0.97      0.96      0.97       937\n",
            "           6       0.98      0.98      0.98       961\n",
            "           7       0.97      0.97      0.97      1055\n",
            "           8       0.95      0.95      0.95       969\n",
            "           9       0.96      0.95      0.95      1036\n",
            "\n",
            "    accuracy                           0.97     10000\n",
            "   macro avg       0.97      0.97      0.97     10000\n",
            "weighted avg       0.97      0.97      0.97     10000\n",
            "\n",
            "\n"
          ]
        }
      ]
    },
    {
      "cell_type": "markdown",
      "source": [
        "### Classify using Nearest Neighbors"
      ],
      "metadata": {
        "id": "yI81TxnMwFqz"
      }
    },
    {
      "cell_type": "code",
      "source": [
        "from sklearn.neighbors import NearestCentroid\n",
        "clf = NearestCentroid()\n",
        "clf.fit(X_train_sc, y_train)"
      ],
      "metadata": {
        "colab": {
          "base_uri": "https://localhost:8080/"
        },
        "id": "zqFeH247P677",
        "outputId": "35bb5a7b-e6d5-4e48-e5fa-504bc208e1e1"
      },
      "execution_count": 24,
      "outputs": [
        {
          "output_type": "execute_result",
          "data": {
            "text/plain": [
              "NearestCentroid()"
            ]
          },
          "metadata": {},
          "execution_count": 24
        }
      ]
    },
    {
      "cell_type": "markdown",
      "source": [
        "#### evaluate preformance of Nearest Neighbors using model score and confusion matrix"
      ],
      "metadata": {
        "id": "B5lzBxvOwuZ0"
      }
    },
    {
      "cell_type": "code",
      "source": [
        "score = clf.score(X_test_sc, y_test)\n",
        "print(f\"Nearest Neighbors Score {score}\")\n",
        "\n",
        "# Predict the value of the digit on the test subset\n",
        "predicted = clf.predict(X_test_sc)\n",
        "\n",
        "print(\n",
        "    f\"Classification report for classifier {clf}:\\n\"\n",
        "    f\"{metrics.classification_report(y_test, predicted)}\\n\"\n",
        ")"
      ],
      "metadata": {
        "colab": {
          "base_uri": "https://localhost:8080/"
        },
        "id": "ps-O918ZQkPw",
        "outputId": "c06b1825-a9cd-40f8-bad9-83f3a271f03f"
      },
      "execution_count": 25,
      "outputs": [
        {
          "output_type": "stream",
          "name": "stdout",
          "text": [
            "Nearest Neighbors Score 0.8057\n",
            "Classification report for classifier NearestCentroid():\n",
            "              precision    recall  f1-score   support\n",
            "\n",
            "           0       0.87      0.83      0.85       983\n",
            "           1       0.74      0.97      0.84      1152\n",
            "           2       0.88      0.77      0.82       967\n",
            "           3       0.76      0.80      0.78      1034\n",
            "           4       0.83      0.81      0.82       906\n",
            "           5       0.76      0.69      0.72       937\n",
            "           6       0.88      0.85      0.86       961\n",
            "           7       0.92      0.80      0.86      1055\n",
            "           8       0.76      0.70      0.73       969\n",
            "           9       0.74      0.81      0.77      1036\n",
            "\n",
            "    accuracy                           0.81     10000\n",
            "   macro avg       0.81      0.80      0.80     10000\n",
            "weighted avg       0.81      0.81      0.81     10000\n",
            "\n",
            "\n"
          ]
        }
      ]
    },
    {
      "cell_type": "code",
      "source": [
        ""
      ],
      "metadata": {
        "id": "VLvyy69wx6gA"
      },
      "execution_count": null,
      "outputs": []
    }
  ]
}